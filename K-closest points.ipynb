from heapq import heappush, heappop
import math


class Solution:
    def kClosest(self, points: List[List[int]], k: int) -> List[List[int]]:
        min_heap = []
        for i in range(len(points)):
            x = points[i][0]
            y = points[i][1]
            heappush(min_heap, (self.distance(x, y), points[i]))
        result = []
        for i in range(k):
            result.append(heappop(min_heap)[1])
        return result

    def distance(self, x, y):
        return math.sqrt((x**2 + y**2))
