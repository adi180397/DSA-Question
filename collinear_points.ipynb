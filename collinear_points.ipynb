{
  "nbformat": 4,
  "nbformat_minor": 0,
  "metadata": {
    "colab": {
      "provenance": [],
      "authorship_tag": "ABX9TyMX/2TCazfsJCp4EwZZFs1q",
      "include_colab_link": true
    },
    "kernelspec": {
      "name": "python3",
      "display_name": "Python 3"
    },
    "language_info": {
      "name": "python"
    }
  },
  "cells": [
    {
      "cell_type": "markdown",
      "metadata": {
        "id": "view-in-github",
        "colab_type": "text"
      },
      "source": [
        "<a href=\"https://colab.research.google.com/github/adi180397/DSA-Question/blob/main/collinear_points.ipynb\" target=\"_parent\"><img src=\"https://colab.research.google.com/assets/colab-badge.svg\" alt=\"Open In Colab\"/></a>"
      ]
    },
    {
      "cell_type": "code",
      "execution_count": 3,
      "metadata": {
        "colab": {
          "base_uri": "https://localhost:8080/"
        },
        "id": "yU8JtMGVXsUc",
        "outputId": "8a0ceebc-a283-4356-a06c-ad53d784d7e1"
      },
      "outputs": [
        {
          "output_type": "stream",
          "name": "stdout",
          "text": [
            "collinear\n"
          ]
        }
      ],
      "source": [
        "def collinear(x1,x2,x3,y1,y2,y3):\n",
        "  if (y2-y1)*(x3-x1)==(y3-y1)*(x2-x1):\n",
        "    print('collinear')\n",
        "  else:\n",
        "    print('non-collinear')\n",
        "\n",
        "#Driver code\n",
        "\n",
        "collinear(1,2,3,5,7,9)\n"
      ]
    }
  ]
}