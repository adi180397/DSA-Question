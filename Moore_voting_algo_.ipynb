{
  "nbformat": 4,
  "nbformat_minor": 0,
  "metadata": {
    "colab": {
      "provenance": [],
      "authorship_tag": "ABX9TyNjn6N5jVD/gZubWSE5WQP1",
      "include_colab_link": true
    },
    "kernelspec": {
      "name": "python3",
      "display_name": "Python 3"
    },
    "language_info": {
      "name": "python"
    }
  },
  "cells": [
    {
      "cell_type": "markdown",
      "metadata": {
        "id": "view-in-github",
        "colab_type": "text"
      },
      "source": [
        "<a href=\"https://colab.research.google.com/github/adi180397/DSA-Questions-in-python/blob/main/Moore_voting_algo_.ipynb\" target=\"_parent\"><img src=\"https://colab.research.google.com/assets/colab-badge.svg\" alt=\"Open In Colab\"/></a>"
      ]
    },
    {
      "cell_type": "code",
      "execution_count": 2,
      "metadata": {
        "colab": {
          "base_uri": "https://localhost:8080/"
        },
        "id": "AB38vh0iP8Fl",
        "outputId": "ce8e13f6-dfe7-4677-ec47-6ab7ca735668"
      },
      "outputs": [
        {
          "output_type": "stream",
          "name": "stdout",
          "text": [
            "3\n"
          ]
        }
      ],
      "source": [
        "## Here time complexity is O(n) and space complexity is O(1)\n",
        "\n",
        "def FindCandidate(arr):  ## This function find the candidate\n",
        "  cand=None\n",
        "  count=0\n",
        "  for i in arr:\n",
        "    if count==0:\n",
        "      cand=i\n",
        "    count=count+(1 if i==cand else -1)\n",
        "  return cand\n",
        "def MajorityElement(arr,cand): # this function verify that if cand is greater than half of the length of array\n",
        "  count=0\n",
        "  for i in arr:\n",
        "    if i==cand:\n",
        "      count+=1\n",
        "  if count>len(arr)//2:\n",
        "    return 1\n",
        "  else:\n",
        "    return -1\n",
        "def Ismajority(arr):   ## this function check and print the candidate element if exist\n",
        "  cand=FindCandidate(arr)\n",
        "  if MajorityElement(arr,cand):\n",
        "    print(cand)\n",
        "  else:\n",
        "    print('majority element doesnot exist')\n",
        "## Driver code\n",
        "arr=[2,3,3,4,3,3]\n",
        "Ismajority(arr)\n",
        "\n"
      ]
    }
  ]
}