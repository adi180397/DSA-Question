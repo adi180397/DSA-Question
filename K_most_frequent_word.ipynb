{
  "nbformat": 4,
  "nbformat_minor": 0,
  "metadata": {
    "colab": {
      "provenance": [],
      "authorship_tag": "ABX9TyNcR0aPTdtwqMeBfAaZXstb",
      "include_colab_link": true
    },
    "kernelspec": {
      "name": "python3",
      "display_name": "Python 3"
    },
    "language_info": {
      "name": "python"
    }
  },
  "cells": [
    {
      "cell_type": "markdown",
      "metadata": {
        "id": "view-in-github",
        "colab_type": "text"
      },
      "source": [
        "<a href=\"https://colab.research.google.com/github/adi180397/DSA-Question/blob/main/K_most_frequent_word.ipynb\" target=\"_parent\"><img src=\"https://colab.research.google.com/assets/colab-badge.svg\" alt=\"Open In Colab\"/></a>"
      ]
    },
    {
      "cell_type": "code",
      "execution_count": 4,
      "metadata": {
        "colab": {
          "base_uri": "https://localhost:8080/"
        },
        "id": "Sn9Ej0t83KhX",
        "outputId": "5a5ccd42-0195-48f9-bd56-6c6d216c9379"
      },
      "outputs": [
        {
          "output_type": "stream",
          "name": "stdout",
          "text": [
            "Counter({1: 3, 2: 2, 3: 1})\n",
            "[1, 2]\n"
          ]
        }
      ],
      "source": [
        "from collections import Counter\n",
        "from heapq import nsmallest\n",
        "def topKFrequent(nums,k):\n",
        "  # Counter function is used for creating a dictionary\n",
        "  count=Counter(nums)\n",
        "  print(count)\n",
        "  # nsmallest funtion return k smallest element from the data set.\n",
        "  # in this problem since we want largest element so -count[x].(-count[x],x) function is used\n",
        "  # as it may happenn that 2 frequency are same. in that case it gives the smaller element will appear in result.\n",
        "  return nsmallest(k,count.keys(),key=lambda x:(-count[x],x))\n",
        "\n",
        "\n",
        "# Driver code\n",
        "nums=[1,1,1,2,2,3]\n",
        "k=2\n",
        "result=topKFrequent(nums,k)\n",
        "print(result)\n"
      ]
    },
    {
      "cell_type": "code",
      "source": [],
      "metadata": {
        "id": "Vdx8lvpufyK7"
      },
      "execution_count": null,
      "outputs": []
    }
  ]
}